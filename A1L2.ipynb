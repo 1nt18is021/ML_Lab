{
 "cells": [
  {
   "cell_type": "code",
   "execution_count": 1,
   "metadata": {},
   "outputs": [
    {
     "name": "stdout",
     "output_type": "stream",
     "text": [
      "[0.0, 0.002004008016032064, 0.004008016032064128, 0.006012024048096192, 0.09819639278557114, 0.003807615230460922, 1.0]\n"
     ]
    }
   ],
   "source": [
    "l=[10,20,30,40,500,29,5000]\n",
    "ma=max(l)\n",
    "mi=min(l)\n",
    "x=[]\n",
    "for e in l:\n",
    "    x.append((e-mi)/(ma-mi))\n",
    "print(x)"
   ]
  },
  {
   "cell_type": "code",
   "execution_count": 3,
   "metadata": {},
   "outputs": [
    {
     "name": "stdout",
     "output_type": "stream",
     "text": [
      "[[1.         0.        ]\n",
      " [0.04166667 0.49494949]\n",
      " [0.47916667 0.04040404]\n",
      " [0.875      0.6969697 ]\n",
      " [0.         1.        ]]\n"
     ]
    }
   ],
   "source": [
    "from numpy import asarray\n",
    "from sklearn.preprocessing import MinMaxScaler\n",
    "data=[[100,0.001],[8,0.05],[50,0.005],[88,0.07],[4,0.1]]\n",
    "scaler = MinMaxScaler()\n",
    "Scaled=scaler.fit_transform(data)\n",
    "print(Scaled)"
   ]
  },
  {
   "cell_type": "code",
   "execution_count": 4,
   "metadata": {},
   "outputs": [
    {
     "name": "stdout",
     "output_type": "stream",
     "text": [
      "[-0.4272702689696443, -0.42188999934779237, -0.41650972972594036, -0.4111294601040884, -0.16363705749889776, -0.41704775668812555, 2.257484272334489]\n",
      "3.568574007723718e-17\n",
      "1.0\n"
     ]
    }
   ],
   "source": [
    "import statistics as st\n",
    "l=[10,20,30,40,500,29,5000]\n",
    "me=st.mean(l)\n",
    "std=st.stdev(l)\n",
    "x=[]\n",
    "for e in l:\n",
    "    x.append((e-me)/std)\n",
    "print(x)\n",
    "print(st.mean(x))\n",
    "print(st.stdev(x))"
   ]
  },
  {
   "cell_type": "code",
   "execution_count": 5,
   "metadata": {},
   "outputs": [
    {
     "name": "stdout",
     "output_type": "stream",
     "text": [
      "[[ 1.26398112 -1.16389967]\n",
      " [-1.06174414  0.12639634]\n",
      " [ 0.         -1.05856939]\n",
      " [ 0.96062565  0.65304778]\n",
      " [-1.16286263  1.44302493]]\n"
     ]
    }
   ],
   "source": [
    "from numpy import asarray\n",
    "from sklearn.preprocessing import StandardScaler\n",
    "data=[[100,0.001],[8,0.05],[50,0.005],[88,0.07],[4,0.1]]\n",
    "scaler = StandardScaler()\n",
    "Scaled=scaler.fit_transform(data)\n",
    "print(Scaled)"
   ]
  },
  {
   "cell_type": "code",
   "execution_count": null,
   "metadata": {},
   "outputs": [],
   "source": []
  }
 ],
 "metadata": {
  "kernelspec": {
   "display_name": "Python 3",
   "language": "python",
   "name": "python3"
  },
  "language_info": {
   "codemirror_mode": {
    "name": "ipython",
    "version": 3
   },
   "file_extension": ".py",
   "mimetype": "text/x-python",
   "name": "python",
   "nbconvert_exporter": "python",
   "pygments_lexer": "ipython3",
   "version": "3.8.10"
  }
 },
 "nbformat": 4,
 "nbformat_minor": 4
}
