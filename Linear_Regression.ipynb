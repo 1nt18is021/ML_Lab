{
 "cells": [
  {
   "cell_type": "code",
   "execution_count": 33,
   "metadata": {},
   "outputs": [
    {
     "name": "stdout",
     "output_type": "stream",
     "text": [
      "mean of x = 8.159799999999999\n",
      "mean of y= 5.839135051546393\n",
      "standard deviation of y = 5.510262255231544\n",
      "standard deviation of x= 3.8698835278823314\n",
      "r= 0.8378732325263409\n",
      "slope(m)= 1.193033644189594\n",
      "intercept(c)= -3.8957808783118537\n",
      "          X         Y     Y_PRED\n",
      "0    6.1101  17.59200   3.393774\n",
      "1    5.5277   9.13020   2.698951\n",
      "2    8.5186  13.66200   6.267196\n",
      "3    7.0032  11.85400   4.459272\n",
      "4    5.8598   6.82330   3.095158\n",
      "..      ...       ...        ...\n",
      "92   5.8707   7.20290   3.108162\n",
      "93   5.3054   1.98690   2.433740\n",
      "94   8.2934   0.14454   5.998524\n",
      "95  13.3940   9.05510  12.083712\n",
      "96   5.4369   0.61705   2.590624\n",
      "\n",
      "[97 rows x 3 columns]\n"
     ]
    },
    {
     "data": {
      "image/png": "[encoded data removed]",
      "text/plain": [
       "<Figure size 432x288 with 1 Axes>"
      ]
     },
     "metadata": {
      "needs_background": "light"
     },
     "output_type": "display_data"
    },
    {
     "name": "stdout",
     "output_type": "stream",
     "text": [
      "COST= 2.992313946087602\n",
      "SSR= 2046.314604718041\n",
      "SST= 2914.8470516572247\n",
      "R2= 0.7020315537841401\n"
     ]
    }
   ],
   "source": [
    "import numpy as np\n",
    "import pandas as pd\n",
    "import matplotlib.pyplot as plt\n",
    "import statistics as st\n",
    "import math\n",
    "col_names=['x','y']\n",
    "food = pd.read_csv(\"Food-Truck-LineReg.csv\",names=col_names)\n",
    "\n",
    "X=food['x'].values\n",
    "Y=food['y'].values\n",
    "\n",
    "# number of observations/points\n",
    "n=np.size(X)\n",
    "\n",
    "# mean of x and y vector\n",
    "m_x = np.mean(X)\n",
    "m_y = np.mean(Y)\n",
    "print(\"mean of x =\",m_x)\n",
    "print(\"mean of y=\",m_y)\n",
    "\n",
    "# calculating cross-deviation and deviation about x\n",
    "Sy=st.stdev(Y)\n",
    "Sx=st.stdev(X)\n",
    "print(\"standard deviation of y =\",Sy)\n",
    "print(\"standard deviation of x=\",Sx)\n",
    "\n",
    "#correlation coefficient\n",
    "import scipy.stats\n",
    "r=scipy.stats.pearsonr(X,Y)[0]\n",
    "print(\"r=\",r)\n",
    "\n",
    "#slope\n",
    "m=r*(Sy/Sx)\n",
    "print(\"slope(m)=\",m)\n",
    "\n",
    "# plotting the actual points as scatter plot\n",
    "\n",
    "#intercept\n",
    "c=m_y-(m*m_x)\n",
    "print(\"intercept(c)=\",c)\n",
    "\n",
    "y_pred=(m*X)+c\n",
    "d = {\"X\": X, \"Y\": Y, \"Y_PRED\" : y_pred}\n",
    "df = pd.DataFrame(d)\n",
    "print(df)\n",
    "plt.scatter(X, Y, color = \"teal\",marker = \"P\", s = 30)\n",
    "# plotting the regression line\n",
    "plt.plot(X, y_pred, color = \"orange\")\n",
    "\n",
    "# putting labels    \n",
    "plt.xlabel('x')\n",
    "plt.ylabel('y')\n",
    " \n",
    "# function to show plot\n",
    "plt.show()\n",
    "\n",
    "#COST\n",
    "sub=(Y-y_pred)**2;\n",
    "mse=sum(sub)/len(Y);\n",
    "rmse=math.sqrt(mse)\n",
    "print(\"COST=\",rmse)\n",
    "\n",
    "#SSR\n",
    "sub1=(y_pred-m_y)**2\n",
    "ssr=sum(sub1)\n",
    "print(\"SSR=\",ssr)\n",
    "\n",
    "#SST\n",
    "sub2=(Y-m_y)**2;\n",
    "sst=sum(sub2)\n",
    "print(\"SST=\",sst)\n",
    "\n",
    "#R^2\n",
    "R_2=ssr/sst\n",
    "print(\"R2=\",R_2)"
   ]
  },
  {
   "cell_type": "code",
   "execution_count": null,
   "metadata": {},
   "outputs": [],
   "source": []
  },
  {
   "cell_type": "code",
   "execution_count": null,
   "metadata": {},
   "outputs": [],
   "source": []
  }
 ],
 "metadata": {
  "kernelspec": {
   "display_name": "Python 3",
   "language": "python",
   "name": "python3"
  },
  "language_info": {
   "codemirror_mode": {
    "name": "ipython",
    "version": 3
   },
   "file_extension": ".py",
   "mimetype": "text/x-python",
   "name": "python",
   "nbconvert_exporter": "python",
   "pygments_lexer": "ipython3",
   "version": "3.8.10"
  }
 },
 "nbformat": 4,
 "nbformat_minor": 4
}
